{
 "cells": [
  {
   "cell_type": "code",
   "execution_count": 5,
   "metadata": {},
   "outputs": [],
   "source": [
    "from main import filter_spark_data_frame"
   ]
  },
  {
   "cell_type": "code",
   "execution_count": 9,
   "metadata": {},
   "outputs": [
    {
     "name": "stdout",
     "output_type": "stream",
     "text": [
      "\u001b[1m============================= test session starts ==============================\u001b[0m\n",
      "platform linux -- Python 3.7.3, pytest-5.0.1, py-1.8.0, pluggy-0.12.0 -- /opt/conda/bin/python\n",
      "cachedir: .pytest_cache\n",
      "rootdir: /home/jovyan/compdf\n",
      "collected 2 items                                                              \u001b[0m\n",
      "\n",
      "test_main.py::test_filter_spark_data_frame_by_value \u001b[32mPASSED\u001b[0m\u001b[36m               [ 50%]\u001b[0m\n",
      "test_main_refactored.py::test_filter_spark_data_frame \u001b[32mPASSED\u001b[0m\u001b[36m             [100%]\u001b[0m\n",
      "\n",
      "\u001b[32m\u001b[1m========================== 2 passed in 15.99 seconds ===========================\u001b[0m\n"
     ]
    }
   ],
   "source": [
    "!pytest -v ."
   ]
  },
  {
   "cell_type": "code",
   "execution_count": null,
   "metadata": {},
   "outputs": [],
   "source": []
  }
 ],
 "metadata": {
  "kernelspec": {
   "display_name": "Python 3",
   "language": "python",
   "name": "python3"
  },
  "language_info": {
   "codemirror_mode": {
    "name": "ipython",
    "version": 3
   },
   "file_extension": ".py",
   "mimetype": "text/x-python",
   "name": "python",
   "nbconvert_exporter": "python",
   "pygments_lexer": "ipython3",
   "version": "3.7.3"
  }
 },
 "nbformat": 4,
 "nbformat_minor": 2
}
